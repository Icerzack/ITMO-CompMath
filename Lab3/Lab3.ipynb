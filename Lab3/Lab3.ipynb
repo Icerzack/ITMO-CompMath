{
  "nbformat": 4,
  "nbformat_minor": 0,
  "metadata": {
    "colab": {
      "name": "Lab3.ipynb",
      "provenance": []
    },
    "kernelspec": {
      "name": "python3",
      "display_name": "Python 3"
    },
    "language_info": {
      "name": "python"
    }
  },
  "cells": [
    {
      "cell_type": "code",
      "source": [
        "import math\n",
        "n = 0\n",
        "# y = x\n",
        "def f1(x):\n",
        "    return x\n",
        "# y = 2*x^2 \n",
        "def f2(x):\n",
        "    return 2*x*x\n",
        "# y = sin(x)\n",
        "def f3(x):\n",
        "    return math.sin(x)"
      ],
      "metadata": {
        "id": "OHDtJvzWZix1"
      },
      "execution_count": 15,
      "outputs": []
    },
    {
      "cell_type": "code",
      "source": [
        "def left_rectangle_method(a, b, eps, f):\n",
        "    global n\n",
        "    s = 0\n",
        "    n = 4\n",
        "    while(True):\n",
        "        summ = 0\n",
        "        h = (b - a)/n\n",
        "        for i in range(0, n):\n",
        "            x = a + i * h\n",
        "            summ += f(x)\n",
        "        summ *= h\n",
        "        if (abs(s - summ) < eps):\n",
        "            return summ\n",
        "        else:\n",
        "            n *= 2\n",
        "            s = summ"
      ],
      "metadata": {
        "id": "ildLf5qUeDck"
      },
      "execution_count": 16,
      "outputs": []
    },
    {
      "cell_type": "code",
      "source": [
        "def right_rectangle_method(a, b, eps, f):\n",
        "    global n\n",
        "    s = 0\n",
        "    n = 4\n",
        "    while(True):\n",
        "        summ = 0\n",
        "        h = (b - a)/n\n",
        "        for i in range(1, n+1):\n",
        "            x = a + i * h\n",
        "            summ += f(x)\n",
        "        summ *= h\n",
        "        if (abs(s - summ) < eps):\n",
        "            return summ\n",
        "        else:\n",
        "            n *= 2\n",
        "            s = summ"
      ],
      "metadata": {
        "id": "q1o6B4iteG0p"
      },
      "execution_count": 17,
      "outputs": []
    },
    {
      "cell_type": "code",
      "source": [
        "def medium_rectangle_method(a, b, eps, f):\n",
        "    global n\n",
        "    s = 0\n",
        "    n = 4\n",
        "    while(True):\n",
        "        summ = 0\n",
        "        h = (b - a)/n\n",
        "        for i in range(0, n):\n",
        "            x = a + i * h + h/2\n",
        "            summ += f(x)\n",
        "        summ *= h\n",
        "        if (abs(s - summ) < eps):\n",
        "            return summ\n",
        "        else:\n",
        "            n *= 2\n",
        "            s = summ"
      ],
      "metadata": {
        "id": "dwfFAbhjeTlJ"
      },
      "execution_count": 18,
      "outputs": []
    },
    {
      "cell_type": "code",
      "source": [
        "def simpson_method(a, b, eps, f):\n",
        "    global n\n",
        "    s = 0\n",
        "    n = 4\n",
        "    while(True):\n",
        "        summ = 0\n",
        "        h = (b - a)/n\n",
        "        for i in range(1, n):\n",
        "            x = a + i * h\n",
        "            if (i % 2 == 1):\n",
        "                summ += 4*f(x)\n",
        "            else:\n",
        "                summ += 2*f(x)\n",
        "        summ += f(a) + f(b)\n",
        "        summ *= h/3\n",
        "        if (abs(s - summ) < eps):\n",
        "            return summ\n",
        "        else:\n",
        "            n *= 2\n",
        "            s = summ"
      ],
      "metadata": {
        "id": "030_lRVGbAP0"
      },
      "execution_count": 19,
      "outputs": []
    },
    {
      "cell_type": "code",
      "source": [
        "print(\"\\nВведите номер функции для интегрирования:\\n\"+\n",
        "     \"1. y = x\\n\" +\n",
        "     \"2. y = 2x^2\\n\" +\n",
        "     \"3. y = sin(x)\\n\")\n",
        "while(True):\n",
        "    fun = float(input())\n",
        "    if (fun == 1):\n",
        "      f = f1\n",
        "      break\n",
        "    elif (fun == 2):\n",
        "      f = f2\n",
        "      break\n",
        "    elif (fun == 3):\n",
        "      f = f3\n",
        "      break\n",
        "    else:\n",
        "      print(\"Ввееден неверный номер функции.\\n\" +\n",
        "          \"Попробуйте еще раз:\")\n",
        "    \n",
        "print(\"\\nВведите левый и правый пределы интегрирования:\\n\")\n",
        "while(True):\n",
        "    try:\n",
        "        a = float(input())\n",
        "        b = float(input())\n",
        "        if (a > b): \n",
        "            raise \n",
        "        break\n",
        "    except :\n",
        "        print(\"Введен неверные предел интегрирования.\\n\" +\n",
        "             \"Попробуйте еще раз\")\n",
        "\n",
        "print(\"\\nВведите точность:\\n\")\n",
        "while(True):\n",
        "      eps = float(input())\n",
        "      if (eps > 0): \n",
        "          break \n",
        "      print(\"Ввееденое значение точности (должно быть < 0).\\n\" +\n",
        "          \"Попробуйте еще раз:\")\n",
        "        \n",
        "print(\"\\nВведите метод для интегрирования:\\n\"+\n",
        "     \"1. метод прямоугольников\\n\" +\n",
        "     \"2. метод Симпсона\\n\")\n",
        "while(True):\n",
        "    method = float(input())\n",
        "    if (method >= 1) and (method <= 2):\n",
        "        break\n",
        "    print(\"Ввееден неверный номер метода.\\n\" +\n",
        "          \"Попробуйте еще раз:\")\n",
        "    \n",
        "if(method == 1):\n",
        "  print(f'\\nМетодом левых прямоугольников: {left_rectangle_method(a, b, eps, f)} (Количество интервалов - {n})\\n' + \n",
        "      f'Методом правых прямоугольников: {right_rectangle_method(a, b, eps, f)} (Количество интервалов - {n})\\n' +\n",
        "      f'Методом средних прямоугольников: {medium_rectangle_method(a, b, eps, f)} (Количество интервалов - {n})\\n')\n",
        "\n",
        "if(method == 2):\n",
        "  print(f'\\nМетодом Симпсона: {simpson_method(a, b, eps, f)} (Количество интервалов - {n})')"
      ],
      "metadata": {
        "id": "7n2WyMjBgbHE",
        "colab": {
          "base_uri": "https://localhost:8080/"
        },
        "outputId": "679f0906-f7cd-482c-e525-03aa7e8a5996"
      },
      "execution_count": 21,
      "outputs": [
        {
          "output_type": "stream",
          "name": "stdout",
          "text": [
            "\n",
            "Введите номер функции для интегрирования:\n",
            "1. y = x\n",
            "2. y = 2x^2\n",
            "3. y = sin(x)\n",
            "\n",
            "3\n",
            "\n",
            "Введите левый и правый пределы интегрирования:\n",
            "\n",
            "-2\n",
            "5\n",
            "\n",
            "Введите точность:\n",
            "\n",
            "0.001\n",
            "\n",
            "Введите метод для интегрирования:\n",
            "1. метод прямоугольников\n",
            "2. метод Симпсона\n",
            "\n",
            "1\n",
            "\n",
            "Методом левых прямоугольников: -0.6990869266005413 (Количество интервалов - 256)\n",
            "Методом правых прямоугольников: -0.7018252062152964 (Количество интервалов - 64)\n",
            "Методом средних прямоугольников: -0.6998962352302449 (Количество интервалов - 128)\n",
            "\n"
          ]
        }
      ]
    }
  ]
}